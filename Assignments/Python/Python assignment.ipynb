{
 "cells": [
  {
   "cell_type": "markdown",
   "id": "c8d73092",
   "metadata": {},
   "source": [
    "# List_remove_append"
   ]
  },
  {
   "cell_type": "raw",
   "id": "7f8e20bf",
   "metadata": {},
   "source": [
    "Description: Remove SPSS from\n",
    "input_list=['SAS', 'R', 'PYTHON', 'SPSS'] and \n",
    "add 'SPARK' in its place.\n"
   ]
  },
  {
   "cell_type": "code",
   "execution_count": 1,
   "id": "af914f13",
   "metadata": {},
   "outputs": [
    {
     "name": "stdout",
     "output_type": "stream",
     "text": [
      "After remove and append \n",
      "['SAS', 'R', 'PYTHON', 'SPARK']\n"
     ]
    }
   ],
   "source": [
    "input_list=['SAS', 'R', 'PYTHON', 'SPSS']\n",
    "for i in input_list:\n",
    "    if i == 'SPSS':\n",
    "        input_list[input_list.index('SPSS')]='SPARK'\n",
    "print('After remove and append ')\n",
    "print(input_list)"
   ]
  },
  {
   "cell_type": "markdown",
   "id": "7fbd6114",
   "metadata": {},
   "source": [
    "# String to List Conversion"
   ]
  },
  {
   "cell_type": "raw",
   "id": "b3fba5ea",
   "metadata": {},
   "source": [
    "Description: Convert a string\n",
    "input_str = 'I love Data Science & Python' \n",
    "to a list by splitting it on ‘&’. The sample output for this string will be:"
   ]
  },
  {
   "cell_type": "code",
   "execution_count": 2,
   "id": "76ce1d21",
   "metadata": {},
   "outputs": [
    {
     "data": {
      "text/plain": [
       "['I love Data Science ', ' Python']"
      ]
     },
     "execution_count": 2,
     "metadata": {},
     "output_type": "execute_result"
    }
   ],
   "source": [
    "input_str = 'I love Data Science & Python' \n",
    "input_str.split('&')"
   ]
  },
  {
   "cell_type": "markdown",
   "id": "ef68c989",
   "metadata": {},
   "source": [
    "# List to String Conversion"
   ]
  },
  {
   "cell_type": "raw",
   "id": "717cae0c",
   "metadata": {},
   "source": [
    "Description: Convert a list \n",
    "listToString=['Pythons syntax is easy to learn', 'Pythons syntax is very clear'] \n",
    "to a string using ‘&’. The sample output of this string will be:"
   ]
  },
  {
   "cell_type": "code",
   "execution_count": 3,
   "id": "553b3a11",
   "metadata": {},
   "outputs": [
    {
     "name": "stdout",
     "output_type": "stream",
     "text": [
      "Pythons syntax is easy to learn & Pythons syntax is very clear\n"
     ]
    }
   ],
   "source": [
    "listToString=['Pythons syntax is easy to learn', 'Pythons syntax is very clear']\n",
    "print(\" & \".join(listToString))"
   ]
  },
  {
   "cell_type": "markdown",
   "id": "2735f116",
   "metadata": {},
   "source": [
    "# Nested List"
   ]
  },
  {
   "cell_type": "raw",
   "id": "1b693234",
   "metadata": {},
   "source": [
    "Description: Extract Python from a nested list\n",
    "input_list = [['SAS','R'],['Tableau','SQL'],['Python','Java']]"
   ]
  },
  {
   "cell_type": "code",
   "execution_count": 4,
   "id": "ffc1035f",
   "metadata": {},
   "outputs": [
    {
     "data": {
      "text/plain": [
       "'Python'"
      ]
     },
     "execution_count": 4,
     "metadata": {},
     "output_type": "execute_result"
    }
   ],
   "source": [
    "input_list = [['SAS','R'],['Tableau','SQL'],['Python','Java']]\n",
    "input_list[2][0]"
   ]
  },
  {
   "cell_type": "markdown",
   "id": "d77f41ed",
   "metadata": {},
   "source": [
    "# It’s the time to disco"
   ]
  },
  {
   "cell_type": "raw",
   "id": "d8adce02",
   "metadata": {},
   "source": [
    "Description: t = (\"disco\", 12, 4.5)\n",
    "What is the output of: t[0][2]"
   ]
  },
  {
   "cell_type": "code",
   "execution_count": 5,
   "id": "00d178e4",
   "metadata": {},
   "outputs": [
    {
     "data": {
      "text/plain": [
       "'s'"
      ]
     },
     "execution_count": 5,
     "metadata": {},
     "output_type": "execute_result"
    }
   ],
   "source": [
    "t = (\"disco\", 12, 4.5)\n",
    "t[0][2]  # [0]==>'disco' [2]==>'s'"
   ]
  },
  {
   "cell_type": "markdown",
   "id": "d7f5cfeb",
   "metadata": {},
   "source": [
    "# String Palindrome"
   ]
  },
  {
   "cell_type": "raw",
   "id": "0c97a268",
   "metadata": {},
   "source": [
    "Description: Write a program to check whether a string is a palindrome or not. Print 1 if the string is a palindrome and 0 otherwise.\n",
    "  \n",
    "Input: Any string\n",
    "Output: 1 if the string is palindrome, 0 otherwise"
   ]
  },
  {
   "cell_type": "code",
   "execution_count": 6,
   "id": "5e112b69",
   "metadata": {},
   "outputs": [
    {
     "name": "stdout",
     "output_type": "stream",
     "text": [
      "1\n"
     ]
    }
   ],
   "source": [
    "input_str='kishanahsik'\n",
    "pal=input_str[::-1]\n",
    "if input_str==pal:\n",
    "    print('1')\n",
    "else:\n",
    "    print('0')"
   ]
  },
  {
   "cell_type": "markdown",
   "id": "3bdadbb4",
   "metadata": {},
   "source": [
    "# Reverse Words"
   ]
  },
  {
   "cell_type": "raw",
   "id": "7b8ceb68",
   "metadata": {},
   "source": [
    "Description: You will be given a sentence in the form of a string. You have to reverse the order of the words in the sentence. Remember not to reverse the individual words, but the order of words. Check the sample input-output for further clarification.\n",
    "\n",
    "Input: A string, which will consist of a few spaces.\n",
    "Output: The words in reverse order"
   ]
  },
  {
   "cell_type": "code",
   "execution_count": 7,
   "id": "43eecd61",
   "metadata": {},
   "outputs": [
    {
     "name": "stdout",
     "output_type": "stream",
     "text": [
      "reverse of each word at its own place \n",
      "['yeH', 'mai', 'gninrael', 'gib', 'atad', 'retsam']\n"
     ]
    }
   ],
   "source": [
    "sentence='Hey iam learning big data master'\n",
    "\n",
    "sentence=sentence.split(\" \")\n",
    "for i in sentence:\n",
    "    sentence[sentence.index(i)]=i[::-1]\n",
    "print(r\"reverse of each word at its own place \")\n",
    "print(sentence)"
   ]
  },
  {
   "cell_type": "markdown",
   "id": "a3530236",
   "metadata": {},
   "source": [
    "# String Formatting"
   ]
  },
  {
   "cell_type": "raw",
   "id": "ec3b20b1",
   "metadata": {},
   "source": [
    "Description: Write a program that satisfies below examples\n",
    "Input 1: caloRie ConsuMed\n",
    "Output 1: calorie_consumed\n",
    "Input 2: data science\n",
    "Output 2: data_science\n",
    "Input 3: datascience\n",
    "Output 3: datascience\n"
   ]
  },
  {
   "cell_type": "code",
   "execution_count": 8,
   "id": "877ccaae",
   "metadata": {},
   "outputs": [
    {
     "name": "stdout",
     "output_type": "stream",
     "text": [
      "['calorie_consumed', 'data_science', 'datascience']\n"
     ]
    }
   ],
   "source": [
    "\n",
    "input_word=['caloRie ConsuMed','data science','datascience']\n",
    "for e,j in enumerate(input_word):\n",
    "    for i in j:\n",
    "        if i!=i.lower():\n",
    "            j=j.replace(i,i.lower())\n",
    "        if i==\" \":\n",
    "            j=j.replace(' ','_')\n",
    "    input_word[e]=j\n",
    "\n",
    "print(input_word)"
   ]
  },
  {
   "cell_type": "markdown",
   "id": "e7ea77dd",
   "metadata": {},
   "source": [
    "# Multiple Choice Questions"
   ]
  },
  {
   "cell_type": "markdown",
   "id": "b139091b",
   "metadata": {},
   "source": [
    "#### 1. How will you extract ‘love’ from the string S = “I love Python”? (More than one option may be correct.).\n",
    "\n",
    "a. S[2:5]\n",
    "\n",
    "b. S[2:6]\n",
    "\n",
    "c. S[3:7]\n",
    "\n",
    "d. S[-11:-7]\n",
    "\n",
    "e. S[-11:-8]"
   ]
  },
  {
   "cell_type": "markdown",
   "id": "d5181ee8",
   "metadata": {},
   "source": [
    " #### solution\n",
    " b. S[2:6]\n",
    " \n",
    " C. S[-11:-7]"
   ]
  },
  {
   "cell_type": "code",
   "execution_count": null,
   "id": "2a476582",
   "metadata": {},
   "outputs": [],
   "source": [
    " "
   ]
  },
  {
   "cell_type": "markdown",
   "id": "84f48207",
   "metadata": {},
   "source": [
    "#### 2. What will the output of 3 * 3 ** 3 be?\n",
    "\n",
    "a. 9\n",
    "\n",
    "b. 27\n",
    "\n",
    "c. 81\n",
    "\n",
    "d. 729"
   ]
  },
  {
   "cell_type": "markdown",
   "id": "b30c3146",
   "metadata": {},
   "source": [
    "#### Solution\n",
    "c. 81"
   ]
  },
  {
   "cell_type": "code",
   "execution_count": null,
   "id": "5434b886",
   "metadata": {},
   "outputs": [],
   "source": []
  },
  {
   "cell_type": "markdown",
   "id": "9010666b",
   "metadata": {},
   "source": [
    "#### 3. What will the output be of ((500//7) % 5) ** 3?\n",
    "\n",
    "a. 1\n",
    "\n",
    "b. 2.91\n",
    "\n",
    "c. 71.42\n",
    "\n",
    "d. 0\n",
    "\n",
    "e. 8"
   ]
  },
  {
   "cell_type": "markdown",
   "id": "264ec46d",
   "metadata": {},
   "source": [
    "#### Solution\n",
    "\n",
    "a. 1"
   ]
  },
  {
   "cell_type": "code",
   "execution_count": null,
   "id": "3fd6021a",
   "metadata": {},
   "outputs": [],
   "source": [
    " "
   ]
  },
  {
   "cell_type": "markdown",
   "id": "fefa0211",
   "metadata": {},
   "source": [
    "#### 4. If you have a tuple T = (3, 5, 7, 11), what will the output of T.append(9) be?\n",
    "\n",
    "a. (3, 5, 7, 9, 11)\n",
    "\n",
    "b. (9, 3, 5, 7, 11)\n",
    "\n",
    "c. (3, 5, 7, 11, 9)\n",
    "\n",
    "d. Error"
   ]
  },
  {
   "cell_type": "markdown",
   "id": "f7b40112",
   "metadata": {},
   "source": [
    "#### Solution\n",
    "\n",
    "d. Error"
   ]
  },
  {
   "cell_type": "code",
   "execution_count": null,
   "id": "2649be25",
   "metadata": {},
   "outputs": [],
   "source": [
    " "
   ]
  },
  {
   "cell_type": "markdown",
   "id": "8225253a",
   "metadata": {},
   "source": [
    "#### 5. What will the output of the following program be?\n",
    "\n",
    "a. Vikas\n",
    "\n",
    "b. Mahima\n",
    "\n",
    "c. y\n",
    "\n",
    "d. A"
   ]
  },
  {
   "cell_type": "markdown",
   "id": "00f2b20f",
   "metadata": {},
   "source": [
    "#### Solution\n",
    "\n",
    "QUESTION IS NOT SUFFICIENT TO ANSWER "
   ]
  },
  {
   "cell_type": "code",
   "execution_count": null,
   "id": "ee81a6f0",
   "metadata": {},
   "outputs": [],
   "source": []
  },
  {
   "cell_type": "markdown",
   "id": "c63e4112",
   "metadata": {},
   "source": [
    "### 6. What will the output of the following code be?\n",
    "\n",
    "l = [32, 34, 12, 27, 33]\n",
    "\n",
    "l.append((l4, 19))\n",
    "\n",
    "print(len(l))\n",
    "\n",
    "a. 5\n",
    "\n",
    "b. 6\n",
    "\n",
    "c. 7\n",
    "\n",
    "d. The code will throw an error"
   ]
  },
  {
   "cell_type": "markdown",
   "id": "04b135d8",
   "metadata": {},
   "source": [
    "#### Solution\n",
    "\n",
    "d. The code will throw an error"
   ]
  },
  {
   "cell_type": "code",
   "execution_count": null,
   "id": "6dfc4637",
   "metadata": {},
   "outputs": [],
   "source": [
    " "
   ]
  },
  {
   "cell_type": "markdown",
   "id": "c1c7130a",
   "metadata": {},
   "source": [
    "#### 7. Which of the following statements is incorrect regarding sets in Python?\n",
    "\n",
    "a. Sets do not contain duplicate elements\n",
    "\n",
    "b. Sets are represented using curly braces {}\n",
    "\n",
    "c. Sets are immutable\n",
    "\n",
    "d. All of the above\n"
   ]
  },
  {
   "cell_type": "markdown",
   "id": "fbd56845",
   "metadata": {},
   "source": [
    "#### solution\n",
    "\n",
    "c. Sets are immutable\n"
   ]
  },
  {
   "cell_type": "code",
   "execution_count": null,
   "id": "a855a3d9",
   "metadata": {},
   "outputs": [],
   "source": []
  },
  {
   "cell_type": "markdown",
   "id": "68244018",
   "metadata": {},
   "source": [
    "#### 8. What will the output be of the following code?\n",
    "\n",
    "D = {l:['Raj', 22], 2:['Simran', 21], 3:['Rahul', 40]}\n",
    "\n",
    "\n",
    "for val in D:\n",
    "\n",
    "    print(val)\n",
    "\n",
    "a. 1\n",
    "   2\n",
    "   3\n",
    "\n",
    "b. [‘Raj’, 22]\n",
    "   [‘Simran’, 21]\n",
    "   [‘Rahul’, 40]\n",
    "   \n",
    "c. 1 [‘Raj’, 22]\n",
    "   2 [‘Simran’, 21]\n",
    "   3 [‘Rahul’, 40]\n",
    "   \n",
    "d. ‘Raj’\n",
    "   ‘Simran’\n",
    "   ‘Rahul’\n"
   ]
  },
  {
   "cell_type": "markdown",
   "id": "61190f24",
   "metadata": {},
   "source": [
    "#### solution\n",
    "\n",
    "a. 1\n",
    "   2\n",
    "   3"
   ]
  },
  {
   "cell_type": "code",
   "execution_count": null,
   "id": "3c67d5df",
   "metadata": {},
   "outputs": [],
   "source": []
  },
  {
   "cell_type": "markdown",
   "id": "3de0bf5f",
   "metadata": {},
   "source": [
    "#### 9. What will the ‘comprehension equivalent’ be for the following snippet of code?\n",
    "\n",
    "for sentence in paragraph:\n",
    "\n",
    "    for word in sentence.split():\n",
    "\n",
    "        single_word_list.append(word)\n",
    "\n",
    "a. word for sentence in paragraph for word in sentence.split()\n",
    "\n",
    "b. [word for sentence in paragraph for word in sentence.split()]\n",
    "\n",
    "c. word for word in sentence.split() for sentence in paragraph\n",
    "\n",
    "d. [word for word in sentence.split() for sentence in paragraph]\n",
    "\n",
    "\n"
   ]
  },
  {
   "cell_type": "markdown",
   "id": "d374618f",
   "metadata": {},
   "source": [
    "#### Solution\n",
    "\n",
    "d. [word for word in sentence.split() for sentence in paragraph]\n"
   ]
  },
  {
   "cell_type": "code",
   "execution_count": null,
   "id": "f6e5d707",
   "metadata": {},
   "outputs": [],
   "source": []
  },
  {
   "cell_type": "markdown",
   "id": "ce8ed2cf",
   "metadata": {},
   "source": [
    "#### 10.What will be the output of this code?\n",
    "\n",
    "print(list(range(10, 1, -1)))\n",
    "                 \n",
    "a. [10, 9, 8, 7, 6, 5, 4, 3, 2, 1]\n",
    "\n",
    "b. [9, 8, 7, 6, 5, 4, 3, 2]\n",
    "\n",
    "c. [9, 8, 7, 6, 5, 4, 3, 2, 1]\n",
    "\n",
    "d. [10, 9, 8, 7, 6, 5, 4, 3, 2]\n",
    "\n"
   ]
  },
  {
   "cell_type": "markdown",
   "id": "9fb049e3",
   "metadata": {},
   "source": [
    "#### Solution \n",
    "\n",
    "d. [10, 9, 8, 7, 6, 5, 4, 3, 2]\n"
   ]
  },
  {
   "cell_type": "code",
   "execution_count": null,
   "id": "53305249",
   "metadata": {},
   "outputs": [],
   "source": []
  }
 ],
 "metadata": {
  "kernelspec": {
   "display_name": "Python 3 (ipykernel)",
   "language": "python",
   "name": "python3"
  },
  "language_info": {
   "codemirror_mode": {
    "name": "ipython",
    "version": 3
   },
   "file_extension": ".py",
   "mimetype": "text/x-python",
   "name": "python",
   "nbconvert_exporter": "python",
   "pygments_lexer": "ipython3",
   "version": "3.9.7"
  }
 },
 "nbformat": 4,
 "nbformat_minor": 5
}
